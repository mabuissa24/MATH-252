{
    "cells": [
        {
            "cell_type": "markdown",
            "metadata": {},
            "source": [
                "Write a function $\\texttt{disclog(g,h,p)}$ that solves the discrete logarithm problem in a naive way (quickly enough to work in less than $1$ second if $p$ is a 20-bit prime). Multiple answers are possible (we'll discuss this later); an answer $n$ will be marked correct as long as $g^n \\equiv h \\pmod{p}$. To allow you to see exactly where the naive approach becomes too slow (or, if you're up for it, to allow you to try to implement better methods), the test bank will include cases where $p$ ranges up to $40$ bits, but {\\bf you will receive full credit as long as your code solves the test cases up to $20$-bit primes}. (Later, we'll discuss and implement an algorithm that can solve the entire test bank).\n"
            ]
        },
        {
            "cell_type": "code",
            "execution_count": null,
            "metadata": {
                "mainSource": true
            },
            "outputs": [],
            "source": [
                "# Run this cell every time you change your source code.\n",
                "import importlib, disclogSoln\nimportlib.reload(disclogSoln)\nfrom disclogSoln import disclog"
            ]
        },
        {
            "cell_type": "code",
            "execution_count": null,
            "metadata": {},
            "outputs": [],
            "source": [
                "# Sample test case (3-bit prime modulus)\n# Expected: 2\n# Time limit: 1s (not enforced by this notebook)\ndisclog(2,4,5)"
            ]
        },
        {
            "cell_type": "code",
            "execution_count": null,
            "metadata": {},
            "outputs": [],
            "source": [
                "# Sample test case (5-bit prime modulus)\n# Expected: 2\n# Time limit: 1s (not enforced by this notebook)\ndisclog(15,4,17)"
            ]
        },
        {
            "cell_type": "code",
            "execution_count": null,
            "metadata": {},
            "outputs": [],
            "source": [
                "# Sample test case (7-bit prime modulus)\n# Expected: 5\n# Time limit: 1s (not enforced by this notebook)\ndisclog(76,65,101)"
            ]
        },
        {
            "cell_type": "code",
            "execution_count": null,
            "metadata": {},
            "outputs": [],
            "source": [
                "# Sample test case (9-bit prime modulus)\n# Expected: 107\n# Time limit: 1s (not enforced by this notebook)\ndisclog(106,140,389)"
            ]
        },
        {
            "cell_type": "code",
            "execution_count": null,
            "metadata": {},
            "outputs": [],
            "source": [
                "# Sample test case (12-bit prime modulus)\n# Expected: 556\n# Time limit: 1s (not enforced by this notebook)\ndisclog(2833,3501,3823)"
            ]
        },
        {
            "cell_type": "code",
            "execution_count": null,
            "metadata": {},
            "outputs": [],
            "source": [
                "# Sample test case (16-bit prime modulus)\n# Expected: 983\n# Time limit: 1s (not enforced by this notebook)\ndisclog(19493,36743,39461)"
            ]
        },
        {
            "cell_type": "code",
            "execution_count": null,
            "metadata": {},
            "outputs": [],
            "source": [
                "# Sample test case (20-bit prime modulus)\n# Expected: 715188\n# Time limit: 1s (not enforced by this notebook)\ndisclog(495449,131954,1009501)"
            ]
        }
    ],
    "metadata": {
        "kernelspec": {
            "display_name": "Python 3",
            "language": "python",
            "name": "python3"
        },
        "language_info": {
            "codemirror_mode": {
                "name": "ipython",
                "version": 3
            },
            "file_extension": ".py",
            "mimetype": "text/x-python",
            "name": "python",
            "nbconvert_exporter": "python",
            "pygments_lexer": "ipython3",
            "version": "3.7.1"
        }
    },
    "nbformat": 4,
    "nbformat_minor": 2
}
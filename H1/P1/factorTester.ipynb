{
    "cells": [
        {
            "cell_type": "markdown",
            "metadata": {},
            "source": [
                "Write a function $\\texttt{factor(n)}$ which takes a composite integer $n$ (in fact, your may assume that $n$ is a product of two prime numbers) and returns two proper factors $p,q$ with $p,q > 1$ and $pq = n$. Your function should be efficient enough to finish in less that one second when $n$ is $40$ bits long or less. Half of the test cases will consist of integers 20 bits long or less, so you will receive at least half credit if your implementation can factor these in less than a second each.\n"
            ]
        },
        {
            "cell_type": "code",
            "execution_count": null,
            "metadata": {
                "mainSource": true
            },
            "outputs": [],
            "source": [
                "# Run this cell every time you change your source code.\n",
                "import importlib, factorSoln\nimportlib.reload(factorSoln)\nfrom factorSoln import factor"
            ]
        },
        {
            "cell_type": "code",
            "execution_count": null,
            "metadata": {},
            "outputs": [],
            "source": [
                "# Sample test case (4-bit number (product of two 2-bit primes))\n# Expected: [2, 3]\n# Time limit: 1s (not enforced by this notebook)\nfactor(6)"
            ]
        },
        {
            "cell_type": "code",
            "execution_count": null,
            "metadata": {},
            "outputs": [],
            "source": [
                "# Sample test case (8-bit number (product of two 4-bit primes))\n# Expected: [11, 13]\n# Time limit: 1s (not enforced by this notebook)\nfactor(143)"
            ]
        },
        {
            "cell_type": "code",
            "execution_count": null,
            "metadata": {},
            "outputs": [],
            "source": [
                "# Sample test case (20-bit number (product of two 10-bit primes))\n# Expected: [547, 941]\n# Time limit: 1s (not enforced by this notebook)\nfactor(514727)"
            ]
        },
        {
            "cell_type": "code",
            "execution_count": null,
            "metadata": {},
            "outputs": [],
            "source": [
                "# Sample test case (40-bit number (product of two 20-bit primes))\n# Expected: [675511, 855857]\n# Time limit: 1s (not enforced by this notebook)\nfactor(578140817927)"
            ]
        }
    ],
    "metadata": {
        "kernelspec": {
            "display_name": "Python 3",
            "language": "python",
            "name": "python3"
        },
        "language_info": {
            "codemirror_mode": {
                "name": "ipython",
                "version": 3
            },
            "file_extension": ".py",
            "mimetype": "text/x-python",
            "name": "python",
            "nbconvert_exporter": "python",
            "pygments_lexer": "ipython3",
            "version": "3.7.1"
        }
    },
    "nbformat": 4,
    "nbformat_minor": 2
}
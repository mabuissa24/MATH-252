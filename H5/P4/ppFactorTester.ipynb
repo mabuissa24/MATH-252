{
    "cells": [
        {
            "cell_type": "markdown",
            "metadata": {},
            "source": [
                "Write a function $\\texttt{ppFactor(N)}$ which accepts an integer $N \\geq 2$, and returns a list of the prime powers (all powers of different primes) factoring $N$, in any order. For example, if $N = 12$ the function should return either $\\texttt{[4,3]}$ or $\\texttt{[3,4]}$. The integer $N$ may be quite large (up to $1024$ bits), but you may assume that all of the prime-power factors are $16$ bits or smaller.\n",
                "\n"
            ]
        },
        {
            "cell_type": "code",
            "execution_count": null,
            "metadata": {
                "mainSource": true
            },
            "outputs": [],
            "source": [
                "# Run this cell every time you change your source code.\n",
                "import importlib, ppFactorSoln\nimportlib.reload(ppFactorSoln)\nfrom ppFactorSoln import ppFactor"
            ]
        },
        {
            "cell_type": "code",
            "execution_count": null,
            "metadata": {},
            "outputs": [],
            "source": [
                "# Sample test case (8-bit number)\n# Expected: [2, 7, 11]\n# Time limit: 1s (not enforced by this notebook)\nppFactor(154)"
            ]
        },
        {
            "cell_type": "code",
            "execution_count": null,
            "metadata": {},
            "outputs": [],
            "source": [
                "# Sample test case (6-bit number)\n# Expected: [4, 9]\n# Time limit: 1s (not enforced by this notebook)\nppFactor(36)"
            ]
        },
        {
            "cell_type": "code",
            "execution_count": null,
            "metadata": {},
            "outputs": [],
            "source": [
                "# Sample test case (1018-bit number)\n# Expected: [64279, 43321, 65011, 11777, 13859, 21499, 16223, 38167, 62873, 8237, 41597, 27109, 45691, 23609, 18637, 16363, 4999, 5399, 27917, 33247, 48649, 50101, 8297, 47701, 57773, 27737, 36739, 55147, 27283, 3583, 64123, 43543, 239, 35591, 83, 9103, 1753, 34739, 62633, 34487, 38119, 25349, 22031, 55901, 41081, 54217, 55291, 12553, 61409, 6337, 44621, 42397, 1601, 41039, 40819, 17911, 51577, 42181, 65173, 35447, 7129, 65497, 57041, 61, 607, 28631, 137, 20873, 30169, 9413, 8677, 29153]\n# Time limit: 1s (not enforced by this notebook)\nppFactor(2594292454877798323334912840487235187771959995361139084073956181370050046379010089343214723240271364176588481997797870583024918910542024445903367051858887643579082820064849184599709494809766132374068655364600498240844592873814627114850883605539370263290313589338083396395837218780140845410341119372728869753)"
            ]
        },
        {
            "cell_type": "code",
            "execution_count": null,
            "metadata": {},
            "outputs": [],
            "source": [
                "# Sample test case (6-bit number)\n# Expected: [4, 11]\n# Time limit: 1s (not enforced by this notebook)\nppFactor(44)"
            ]
        },
        {
            "cell_type": "code",
            "execution_count": null,
            "metadata": {},
            "outputs": [],
            "source": [
                "# Sample test case (57-bit number)\n# Expected: [125, 24389, 1331, 11449, 2401]\n# Time limit: 1s (not enforced by this notebook)\nppFactor(111542860472148875)"
            ]
        }
    ],
    "metadata": {
        "kernelspec": {
            "display_name": "Python 3",
            "language": "python",
            "name": "python3"
        },
        "language_info": {
            "codemirror_mode": {
                "name": "ipython",
                "version": 3
            },
            "file_extension": ".py",
            "mimetype": "text/x-python",
            "name": "python",
            "nbconvert_exporter": "python",
            "pygments_lexer": "ipython3",
            "version": "3.7.1"
        }
    },
    "nbformat": 4,
    "nbformat_minor": 2
}
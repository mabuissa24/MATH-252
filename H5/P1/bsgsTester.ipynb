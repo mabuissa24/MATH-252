{
    "cells": [
        {
            "cell_type": "markdown",
            "metadata": {},
            "source": [
                "Implement the Babystep-Giantstep algorithm, efficiently enough to solve the discrete logarithm problem for primes up to $40$ bits in length. That is, write a function $\\texttt{bsgs(g,h,p)}$ that finds an integer $x$ such that $g^x \\equiv h \\pmod{p}$. You may assume that $p$ is prime, $1 \\leq g,h < p$, and that a solution $x$ exists.\n",
                "\n",
                "The test bank on Gradescope will be identical to the test bank for $\\texttt{disclog}$ on Problem Set 2, but now your code must solve all $40$ cases for full credit.\n",
                "\n",
                "(It is fine to implement any algorithm you can devise to solve the discrete logarithm problem, but BSGS is probably the easiest to implement based on what we've discussed in class.)\n"
            ]
        },
        {
            "cell_type": "code",
            "execution_count": null,
            "metadata": {
                "mainSource": true
            },
            "outputs": [],
            "source": [
                "# Run this cell every time you change your source code.\n",
                "import importlib, bsgsSoln\nimportlib.reload(bsgsSoln)\nfrom bsgsSoln import bsgs"
            ]
        },
        {
            "cell_type": "code",
            "execution_count": null,
            "metadata": {},
            "outputs": [],
            "source": [
                "# Sample test case (3-bit prime modulus)\n# Expected: 1 (not unique; other answers possible)\n# Time limit: 4s (not enforced by this notebook)\nbsgs(2,2,7)"
            ]
        },
        {
            "cell_type": "code",
            "execution_count": null,
            "metadata": {},
            "outputs": [],
            "source": [
                "# Sample test case (20-bit prime modulus)\n# Expected: 685929 (not unique; other answers possible)\n# Time limit: 4s (not enforced by this notebook)\nbsgs(663019,286408,954269)"
            ]
        },
        {
            "cell_type": "code",
            "execution_count": null,
            "metadata": {},
            "outputs": [],
            "source": [
                "# Sample test case (32-bit prime modulus)\n# Expected: 877579691 (not unique; other answers possible)\n# Time limit: 4s (not enforced by this notebook)\nbsgs(2321760249,3967401024,4245359869)"
            ]
        },
        {
            "cell_type": "code",
            "execution_count": null,
            "metadata": {},
            "outputs": [],
            "source": [
                "# Sample test case (40-bit prime modulus)\n# Expected: 396083949297 (not unique; other answers possible)\n# Time limit: 4s (not enforced by this notebook)\nbsgs(320336053913,369947412327,661842265811)"
            ]
        }
    ],
    "metadata": {
        "kernelspec": {
            "display_name": "Python 3",
            "language": "python",
            "name": "python3"
        },
        "language_info": {
            "codemirror_mode": {
                "name": "ipython",
                "version": 3
            },
            "file_extension": ".py",
            "mimetype": "text/x-python",
            "name": "python",
            "nbconvert_exporter": "python",
            "pygments_lexer": "ipython3",
            "version": "3.7.1"
        }
    },
    "nbformat": 4,
    "nbformat_minor": 2
}
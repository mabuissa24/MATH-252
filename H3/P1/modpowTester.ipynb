{
    "cells": [
        {
            "cell_type": "markdown",
            "metadata": {},
            "source": [
                "Write a function $\\texttt{modpow(a,n,m)}$ that takes integers $a,n,m$ and returns $a^n \\pmod{m}$. The exponent $n$ may be positive or negative (it will be positive in at least half of the test cases), but you may assume that if $n<0$, then $a$ is a unit modulo $m$ (you'll need to use your code from the previous problem to handle the $n<0$ case). **For this problem, please do not use Python's built-in function for modular powers. You should implement the fast-powering algorithm yourself to see how it works. However, you may look up and use the built-in function on all programming assignments after this one.** The test cases will range in size, with $a$ and $n$ 256-bit integers in the largest case.\n"
            ]
        },
        {
            "cell_type": "code",
            "execution_count": null,
            "metadata": {
                "mainSource": true
            },
            "outputs": [],
            "source": [
                "# Run this cell every time you change your source code.\n",
                "import importlib, modpowSoln\nimportlib.reload(modpowSoln)\nfrom modpowSoln import modpow"
            ]
        },
        {
            "cell_type": "code",
            "execution_count": null,
            "metadata": {},
            "outputs": [],
            "source": [
                "# Sample test case (5-bit modulus and positive exponent)\n# Expected: 4\n# Time limit: 1s (not enforced by this notebook)\nmodpow(4,26,22)"
            ]
        },
        {
            "cell_type": "code",
            "execution_count": null,
            "metadata": {},
            "outputs": [],
            "source": [
                "# Sample test case (16-bit modulus and negative exponent)\n# Expected: 31929\n# Time limit: 1s (not enforced by this notebook)\nmodpow(15,-38809,33454)"
            ]
        },
        {
            "cell_type": "code",
            "execution_count": null,
            "metadata": {},
            "outputs": [],
            "source": [
                "# Sample test case (32-bit modulus and positive exponent)\n# Expected: 1325779842\n# Time limit: 1s (not enforced by this notebook)\nmodpow(12,2657675050,2712871679)"
            ]
        },
        {
            "cell_type": "code",
            "execution_count": null,
            "metadata": {},
            "outputs": [],
            "source": [
                "# Sample test case (64-bit modulus and negative exponent)\n# Expected: 7577281277215941756\n# Time limit: 1s (not enforced by this notebook)\nmodpow(56,-13442377174306293115,10217231750639965811)"
            ]
        },
        {
            "cell_type": "code",
            "execution_count": null,
            "metadata": {},
            "outputs": [],
            "source": [
                "# Sample test case (256-bit modulus and positive exponent)\n# Expected: 587840517415719063934782010554520938615506630727349070215843361181012533478\n# Time limit: 1s (not enforced by this notebook)\nmodpow(60,82447013444512138537612806799931249387270525455388064031408489192731781078438,111111741864016626064891706726141902683018055659701705613830204399899037336082)"
            ]
        }
    ],
    "metadata": {
        "kernelspec": {
            "display_name": "Python 3",
            "language": "python",
            "name": "python3"
        },
        "language_info": {
            "codemirror_mode": {
                "name": "ipython",
                "version": 3
            },
            "file_extension": ".py",
            "mimetype": "text/x-python",
            "name": "python",
            "nbconvert_exporter": "python",
            "pygments_lexer": "ipython3",
            "version": "3.7.1"
        }
    },
    "nbformat": 4,
    "nbformat_minor": 2
}
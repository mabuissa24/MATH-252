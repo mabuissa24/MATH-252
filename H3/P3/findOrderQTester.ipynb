{
    "cells": [
        {
            "cell_type": "markdown",
            "metadata": {},
            "source": [
                "Write a function $\\texttt{findOrderQ(q,p)}$ that takes a prime number $p$ and returns an element $g \\in \\mathbb{Z} / p \\mathbb{Z}$ of order $q$ if possible. See Written Problem 4 for a way to do this. If it is *not* possible to find such an element $g$, your function should $\\texttt{return None}$.\n",
                "\n"
            ]
        },
        {
            "cell_type": "code",
            "execution_count": null,
            "metadata": {
                "mainSource": true
            },
            "outputs": [],
            "source": [
                "# Run this cell every time you change your source code.\n",
                "import importlib, findOrderQSoln\nimportlib.reload(findOrderQSoln)\nfrom findOrderQSoln import findOrderQ"
            ]
        },
        {
            "cell_type": "code",
            "execution_count": null,
            "metadata": {},
            "outputs": [],
            "source": [
                "# Sample test case (3-bit q, 7-bit p)\n# Expected: Many answers possible\n# Time limit: 2s (not enforced by this notebook)\nfindOrderQ(5,71)"
            ]
        },
        {
            "cell_type": "code",
            "execution_count": null,
            "metadata": {},
            "outputs": [],
            "source": [
                "# Sample test case (3-bit q, 7-bit p)\n# Expected: None\n# Time limit: 2s (not enforced by this notebook)\nfindOrderQ(7,103)"
            ]
        },
        {
            "cell_type": "code",
            "execution_count": null,
            "metadata": {},
            "outputs": [],
            "source": [
                "# Sample test case (5-bit q, 10-bit p)\n# Expected: Many answers possible\n# Time limit: 2s (not enforced by this notebook)\nfindOrderQ(19,647)"
            ]
        },
        {
            "cell_type": "code",
            "execution_count": null,
            "metadata": {},
            "outputs": [],
            "source": [
                "# Sample test case (5-bit q, 10-bit p)\n# Expected: None\n# Time limit: 2s (not enforced by this notebook)\nfindOrderQ(17,521)"
            ]
        },
        {
            "cell_type": "code",
            "execution_count": null,
            "metadata": {},
            "outputs": [],
            "source": [
                "# Sample test case (128-bit q, 256-bit p)\n# Expected: Many answers possible\n# Time limit: 2s (not enforced by this notebook)\nfindOrderQ(259624423329128907937871816773300023439,84573520431382887117858045974959516268045141303575924695294306195837151957819)"
            ]
        },
        {
            "cell_type": "code",
            "execution_count": null,
            "metadata": {},
            "outputs": [],
            "source": [
                "# Sample test case (128-bit q, 256-bit p)\n# Expected: None\n# Time limit: 2s (not enforced by this notebook)\nfindOrderQ(252128726496463920773885805980857530121,93975569528503478529450006798731958974555027815394562376388189920123552176919)"
            ]
        }
    ],
    "metadata": {
        "kernelspec": {
            "display_name": "Python 3",
            "language": "python",
            "name": "python3"
        },
        "language_info": {
            "codemirror_mode": {
                "name": "ipython",
                "version": 3
            },
            "file_extension": ".py",
            "mimetype": "text/x-python",
            "name": "python",
            "nbconvert_exporter": "python",
            "pygments_lexer": "ipython3",
            "version": "3.7.1"
        }
    },
    "nbformat": 4,
    "nbformat_minor": 2
}
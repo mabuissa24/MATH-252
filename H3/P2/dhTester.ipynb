{
    "cells": [
        {
            "cell_type": "markdown",
            "metadata": {},
            "source": [
                "Write a function $\\texttt{dh(g,p,B)}$ that performs Alice's role in Diffie-Hellman key exchange, using a randomly chosen secret number $a$. More precisely: you are given a prime number $p$, an element $g \\in \\mathbb{Z} / p \\mathbb{Z}$, and Bob's transmission $B$. Your function should return a pair of two numbers $A,S$, where $A$ is the number you transmit to Bob, and $S$ is the shared secret. You should look up how to generate random numbers in Python (don't worry about finding a \"cryptographically secure\" random number generator, just use the standard one in Python). The prime $p$ will be between $16$ and $256$ bits long, and the autograder will run your code several times on each input to make sure that it appears to be choosing the secret number $a$ randomly.\n"
            ]
        },
        {
            "cell_type": "code",
            "execution_count": null,
            "metadata": {
                "mainSource": true
            },
            "outputs": [],
            "source": [
                "# Run this cell every time you change your source code.\n",
                "import importlib, dhSoln\nimportlib.reload(dhSoln)\nfrom dhSoln import dh"
            ]
        },
        {
            "cell_type": "code",
            "execution_count": null,
            "metadata": {},
            "outputs": [],
            "source": [
                "# Sample test case (16-bit prime)\n# Bob's secret number: b = 8420\n# To see if it worked: check that A^b is congruent to S mod p.\n# Time limit: 1s (not enforced by this notebook)\ndh(9852,36191,18272)"
            ]
        },
        {
            "cell_type": "code",
            "execution_count": null,
            "metadata": {},
            "outputs": [],
            "source": [
                "# Sample test case (20-bit prime)\n# Bob's secret number: b = 20781\n# To see if it worked: check that A^b is congruent to S mod p.\n# Time limit: 1s (not enforced by this notebook)\ndh(979727,1008781,806363)"
            ]
        },
        {
            "cell_type": "code",
            "execution_count": null,
            "metadata": {},
            "outputs": [],
            "source": [
                "# Sample test case (32-bit prime)\n# Bob's secret number: b = 2620794649\n# To see if it worked: check that A^b is congruent to S mod p.\n# Time limit: 1s (not enforced by this notebook)\ndh(3105266877,3728085301,512369686)"
            ]
        },
        {
            "cell_type": "code",
            "execution_count": null,
            "metadata": {},
            "outputs": [],
            "source": [
                "# Sample test case (64-bit prime)\n# Bob's secret number: b = 8144000413413958833\n# To see if it worked: check that A^b is congruent to S mod p.\n# Time limit: 1s (not enforced by this notebook)\ndh(22855072982521659,15019432016395572863,2228752477163229461)"
            ]
        },
        {
            "cell_type": "code",
            "execution_count": null,
            "metadata": {},
            "outputs": [],
            "source": [
                "# Sample test case (128-bit prime)\n# Bob's secret number: b = 8227437274020755462302265827581753695\n# To see if it worked: check that A^b is congruent to S mod p.\n# Time limit: 1s (not enforced by this notebook)\ndh(101394862415722661894582952121266406086,215249136879187833772314845668824032741,74672268806819156275237367590934464331)"
            ]
        }
    ],
    "metadata": {
        "kernelspec": {
            "display_name": "Python 3",
            "language": "python",
            "name": "python3"
        },
        "language_info": {
            "codemirror_mode": {
                "name": "ipython",
                "version": 3
            },
            "file_extension": ".py",
            "mimetype": "text/x-python",
            "name": "python",
            "nbconvert_exporter": "python",
            "pygments_lexer": "ipython3",
            "version": "3.7.1"
        }
    },
    "nbformat": 4,
    "nbformat_minor": 2
}
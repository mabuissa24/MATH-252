{
    "cells": [
        {
            "cell_type": "markdown",
            "metadata": {},
            "source": [
                "We've discussed in class the need for choosing primes $p$ such that $p-1$ has a large prime factor, and also mentioned that it is also a good idea to ensure that $p+1$ also has a large prime factor (for reasons we won't discuss). In this problem, you will write a function $\\texttt{strongPrime(qbits,pbits)}$ to construct such a prime. You will be given integers $\\texttt{qbits}$ and $\\texttt{pbits}$, and should return $3$ prime numbers $q_1, q_2, p$ such that both $q_1$ and $q_2$ are at least $\\texttt{qbits}$ bits long, $p$ is exactly $\\texttt{pbits}$ bits long, and such that $q_1 \\mid (p-1)$ and $q_2 \\mid (p+1)$. As with last week's $\\texttt{makeQP}$ problem, I recommend choosing the subordinate primes $q_1, q_2$ first, and using these to narrow the search for the last prime $p$.\n"
            ]
        },
        {
            "cell_type": "code",
            "execution_count": null,
            "metadata": {
                "mainSource": true
            },
            "outputs": [],
            "source": [
                "# Run this cell every time you change your source code.\n",
                "import importlib, strongPrimeSoln\nimportlib.reload(strongPrimeSoln)\nfrom strongPrimeSoln import strongPrime"
            ]
        },
        {
            "cell_type": "code",
            "execution_count": null,
            "metadata": {},
            "outputs": [],
            "source": [
                "# Sample test case (3-bit q's, 15-bit p)\n# Expected: Many answers possible. To check your answers: verify that (p-1)%q1 ==0, (p+1)%q2 ==0, all three of q1,q2,p are prime, q1 and q2 are both at least 2^2, and p is between 2^14 and 2^15.\n# Time limit: 4s (not enforced by this notebook)\nstrongPrime(3,15)"
            ]
        },
        {
            "cell_type": "code",
            "execution_count": null,
            "metadata": {},
            "outputs": [],
            "source": [
                "# Sample test case (4-bit q's, 20-bit p)\n# Expected: Many answers possible. To check your answers: verify that (p-1)%q1 ==0, (p+1)%q2 ==0, all three of q1,q2,p are prime, q1 and q2 are both at least 2^3, and p is between 2^19 and 2^20.\n# Time limit: 4s (not enforced by this notebook)\nstrongPrime(4,20)"
            ]
        },
        {
            "cell_type": "code",
            "execution_count": null,
            "metadata": {},
            "outputs": [],
            "source": [
                "# Sample test case (8-bit q's, 32-bit p)\n# Expected: Many answers possible. To check your answers: verify that (p-1)%q1 ==0, (p+1)%q2 ==0, all three of q1,q2,p are prime, q1 and q2 are both at least 2^7, and p is between 2^31 and 2^32.\n# Time limit: 4s (not enforced by this notebook)\nstrongPrime(8,32)"
            ]
        },
        {
            "cell_type": "code",
            "execution_count": null,
            "metadata": {},
            "outputs": [],
            "source": [
                "# Sample test case (32-bit q's, 128-bit p)\n# Expected: Many answers possible. To check your answers: verify that (p-1)%q1 ==0, (p+1)%q2 ==0, all three of q1,q2,p are prime, q1 and q2 are both at least 2^31, and p is between 2^127 and 2^128.\n# Time limit: 4s (not enforced by this notebook)\nstrongPrime(32,128)"
            ]
        },
        {
            "cell_type": "code",
            "execution_count": null,
            "metadata": {},
            "outputs": [],
            "source": [
                "# Sample test case (256-bit q's, 1024-bit p)\n# Expected: Many answers possible. To check your answers: verify that (p-1)%q1 ==0, (p+1)%q2 ==0, all three of q1,q2,p are prime, q1 and q2 are both at least 2^255, and p is between 2^1023 and 2^1024.\n# Time limit: 4s (not enforced by this notebook)\nstrongPrime(256,1024)"
            ]
        }
    ],
    "metadata": {
        "kernelspec": {
            "display_name": "Python 3",
            "language": "python",
            "name": "python3"
        },
        "language_info": {
            "codemirror_mode": {
                "name": "ipython",
                "version": 3
            },
            "file_extension": ".py",
            "mimetype": "text/x-python",
            "name": "python",
            "nbconvert_exporter": "python",
            "pygments_lexer": "ipython3",
            "version": "3.7.1"
        }
    },
    "nbformat": 4,
    "nbformat_minor": 2
}
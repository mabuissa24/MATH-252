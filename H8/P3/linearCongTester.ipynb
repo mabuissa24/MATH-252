{
    "cells": [
        {
            "cell_type": "markdown",
            "metadata": {},
            "source": [
                "This problem concerns a modular arithmetic problem that we have not yet considered, but which is important to the last programming problem. You will be given integers $m,b$, and $N$, and your goal is to solve the congruence $mx \\equiv b \\pmod{N}$ for $x$. When $m$ is relatively prime to $N$, this is accomplished by multiplying by the inverse of $m$; you should figure out how to solve such a congruence in cases where $m$ may have common factors with $N$. It is possible that no solutions exist. If solutions exist, they can all be described in a single congruence $x \\equiv r \\pmod{M}$, where $r,M$ are integers and $M$ is not necessarily the same as $N$. Write a function $\\texttt{linearCong(m,b,N)}$ that either returns $\\texttt{None}$ if no solutions exist, or returns a pair $\\texttt{(r,M)}$ describing the general solution if solutions do exist.\n"
            ]
        },
        {
            "cell_type": "code",
            "execution_count": null,
            "metadata": {
                "mainSource": true
            },
            "outputs": [],
            "source": [
                "# Run this cell every time you change your source code.\n",
                "import importlib, linearCongSoln\nimportlib.reload(linearCongSoln)\nfrom linearCongSoln import linearCong"
            ]
        },
        {
            "cell_type": "code",
            "execution_count": null,
            "metadata": {},
            "outputs": [],
            "source": [
                "# Sample test case (4-bit modulus; m and N have a common factor)\n# Expected: None\n# Time limit: 1s (not enforced by this notebook)\nlinearCong(2,5,10)"
            ]
        },
        {
            "cell_type": "code",
            "execution_count": null,
            "metadata": {},
            "outputs": [],
            "source": [
                "# Sample test case (3-bit modulus; m and N are relatively prime)\n# Expected: [0, 4]\n# Time limit: 1s (not enforced by this notebook)\nlinearCong(3,0,4)"
            ]
        },
        {
            "cell_type": "code",
            "execution_count": null,
            "metadata": {},
            "outputs": [],
            "source": [
                "# Sample test case (6-bit modulus; m and N have a common factor)\n# Expected: [2, 6]\n# Time limit: 1s (not enforced by this notebook)\nlinearCong(35,28,42)"
            ]
        },
        {
            "cell_type": "code",
            "execution_count": null,
            "metadata": {},
            "outputs": [],
            "source": [
                "# Sample test case (34-bit modulus; m and N have a common factor)\n# Expected: None\n# Time limit: 1s (not enforced by this notebook)\nlinearCong(13730427786,7701190195,13932100524)"
            ]
        },
        {
            "cell_type": "code",
            "execution_count": null,
            "metadata": {},
            "outputs": [],
            "source": [
                "# Sample test case (32-bit modulus; m and N are relatively prime)\n# Expected: [528414506, 2234752537]\n# Time limit: 1s (not enforced by this notebook)\nlinearCong(525469871,247483506,2234752537)"
            ]
        },
        {
            "cell_type": "code",
            "execution_count": null,
            "metadata": {},
            "outputs": [],
            "source": [
                "# Sample test case (35-bit modulus; m and N have a common factor)\n# Expected: [2648948467, 3067233575]\n# Time limit: 1s (not enforced by this notebook)\nlinearCong(10847881728,2023713726,18403401450)"
            ]
        },
        {
            "cell_type": "code",
            "execution_count": null,
            "metadata": {},
            "outputs": [],
            "source": [
                "# Sample test case (259-bit modulus; m and N have a common factor)\n# Expected: None\n# Time limit: 1s (not enforced by this notebook)\nlinearCong(314466394419011935875799135087588379729839457016537999922958240087231741891622,214182097840425322589453419066665632384950182268237560488059917977288527198126,518699080812447777467808930789457150812756697592910227308009635324203669149656)"
            ]
        },
        {
            "cell_type": "code",
            "execution_count": null,
            "metadata": {},
            "outputs": [],
            "source": [
                "# Sample test case (256-bit modulus; m and N are relatively prime)\n# Expected: [52474154955446335915985835853862441407074638385377293066309277140558246271508, 95246923059718855155248638038783518018793042638412172600055423745587438883520]\n# Time limit: 1s (not enforced by this notebook)\nlinearCong(11472542091338761617590296465979661718455798119004050673184057057359562520033,84968375482094050490295724049183436504194961012600508882470254876546270689684,95246923059718855155248638038783518018793042638412172600055423745587438883520)"
            ]
        },
        {
            "cell_type": "code",
            "execution_count": null,
            "metadata": {},
            "outputs": [],
            "source": [
                "# Sample test case (257-bit modulus; m and N have a common factor)\n# Expected: [42214357306896920139860096197496123505792409335994065538312110953653245671010, 104160293156482250125238241686811218489655426362848496611517939064868402370299]\n# Time limit: 1s (not enforced by this notebook)\nlinearCong(165199333251964483178345263151824447963215219944121556493780088210363388187744,73741220505506665271502931213574588726477731520649324481691376517837898433798,208320586312964500250476483373622436979310852725696993223035878129736804740598)"
            ]
        }
    ],
    "metadata": {
        "kernelspec": {
            "display_name": "Python 3",
            "language": "python",
            "name": "python3"
        },
        "language_info": {
            "codemirror_mode": {
                "name": "ipython",
                "version": 3
            },
            "file_extension": ".py",
            "mimetype": "text/x-python",
            "name": "python",
            "nbconvert_exporter": "python",
            "pygments_lexer": "ipython3",
            "version": "3.7.1"
        }
    },
    "nbformat": 4,
    "nbformat_minor": 2
}
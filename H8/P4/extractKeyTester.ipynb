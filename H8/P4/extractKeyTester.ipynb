{
    "cells": [
        {
            "cell_type": "markdown",
            "metadata": {},
            "source": [
                "When using ElGamal digital signatures, it is essential that Samantha always generates her ephemeral key at random (much like in ElGamal encryption). In this problem, you will study why it is particularly dangerous to use the same ephemeral key twice. You will be given the public ElGamal parameters $\\texttt{p,g}$, Alice's public key $\\texttt{A}$, two documents $\\texttt{d1,d2}$, and valid signatures $\\texttt{(s11,s12),(s21,s22)}$ for the two documents (respectively). The two signatures were generated using the same ephemeral key. Write a function $\\texttt{extractKey(p,g,A,d1,s11,s12,d2,s21,s22)}$ that extracts and returns Alice's private key $\\texttt{a}$ from this information.\n"
            ]
        },
        {
            "cell_type": "code",
            "execution_count": null,
            "metadata": {
                "mainSource": true
            },
            "outputs": [],
            "source": [
                "# Run this cell every time you change your source code.\n",
                "import importlib, extractKeySoln\nimportlib.reload(extractKeySoln)\nfrom extractKeySoln import extractKey"
            ]
        },
        {
            "cell_type": "code",
            "execution_count": null,
            "metadata": {},
            "outputs": [],
            "source": [
                "# Sample test case (5-bit modulus)\n# Expected: 12\n# Time limit: 1s (not enforced by this notebook)\nextractKey(31,3,8,22,21,20,27,21,15)"
            ]
        },
        {
            "cell_type": "code",
            "execution_count": null,
            "metadata": {},
            "outputs": [],
            "source": [
                "# Sample test case (8-bit modulus)\n# Expected: 68\n# Time limit: 1s (not enforced by this notebook)\nextractKey(227,2,75,68,54,70,50,54,78)"
            ]
        },
        {
            "cell_type": "code",
            "execution_count": null,
            "metadata": {},
            "outputs": [],
            "source": [
                "# Sample test case (16-bit modulus)\n# Expected: 11622\n# Time limit: 1s (not enforced by this notebook)\nextractKey(64237,2,617,19601,35805,24077,6686,35805,41060)"
            ]
        },
        {
            "cell_type": "code",
            "execution_count": null,
            "metadata": {},
            "outputs": [],
            "source": [
                "# Sample test case (32-bit modulus)\n# Expected: 2740848104\n# Time limit: 1s (not enforced by this notebook)\nextractKey(4048222649,3,3927129755,1993172873,1064135664,2859022427,2242173596,1064135664,2702406260)"
            ]
        },
        {
            "cell_type": "code",
            "execution_count": null,
            "metadata": {},
            "outputs": [],
            "source": [
                "# Sample test case (64-bit modulus)\n# Expected: 2084408597873454769\n# Time limit: 1s (not enforced by this notebook)\nextractKey(10133333991365625193,5,7999410906005148943,282273489467794319,6056143540773798174,2961740801939940739,5884444141429310622,6056143540773798174,7905423635917836816)"
            ]
        },
        {
            "cell_type": "code",
            "execution_count": null,
            "metadata": {},
            "outputs": [],
            "source": [
                "# Sample test case (128-bit modulus)\n# Expected: 230587166195085729606253391587546187141\n# Time limit: 1s (not enforced by this notebook)\nextractKey(287129312229987572852403577687181614433,3,108827046242402871302521998789840816940,186324679471048059541520756311340430900,270844773223395914780122135102891641911,231541208079883466092318204222341142039,195708859700358131309436650409000476237,270844773223395914780122135102891641911,91700038998996392361448090889601431414)"
            ]
        },
        {
            "cell_type": "code",
            "execution_count": null,
            "metadata": {},
            "outputs": [],
            "source": [
                "# Sample test case (256-bit modulus)\n# Expected: 8428483452710710419432413831086577705271978793903557142860509559840740734235\n# Time limit: 1s (not enforced by this notebook)\nextractKey(102320982876018364499341918552163635964281635276301902252993877948338243974497,11,30118086674218042807993119507676934178505586990855202269988744087724107515503,52340840719947075791801259808001180357058182309367884754322813286013122939838,74767150753399893289691179500201728784397395869158347210342012062134246642997,73511314118334991800180110562315299187626398680801953795649838731270399600749,71738027622139603755842233721853275353899360155695886830119059602608659181370,74767150753399893289691179500201728784397395869158347210342012062134246642997,5088318213258777267304874992835578412985132350017930527000225044556337743297)"
            ]
        }
    ],
    "metadata": {
        "kernelspec": {
            "display_name": "Python 3",
            "language": "python",
            "name": "python3"
        },
        "language_info": {
            "codemirror_mode": {
                "name": "ipython",
                "version": 3
            },
            "file_extension": ".py",
            "mimetype": "text/x-python",
            "name": "python",
            "nbconvert_exporter": "python",
            "pygments_lexer": "ipython3",
            "version": "3.7.1"
        }
    },
    "nbformat": 4,
    "nbformat_minor": 2
}
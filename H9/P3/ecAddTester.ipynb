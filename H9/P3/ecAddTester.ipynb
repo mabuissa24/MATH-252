{
    "cells": [
        {
            "cell_type": "markdown",
            "metadata": {},
            "source": [
                "Write a function $\\texttt{ecAdd(P,Q,A,B,p)}$ to compute the sum $P \\oplus Q$ of two points on the Elliptic Curve over $\\FF_p$ defined by $Y^2 \\equiv X^3 + A X + B \\pmod{p}$. You may assume that $P$ and $Q$ are both valid points on the curve\\footnote{Though of course if you were using this code in real life, you should add some error handling that checks this.}. The points $P$ and $Q$ will be either pairs $(x,y)$ of elements of $\\mathbb{Z} / p \\mathbb{Z}$, or the integer $\\texttt{0}$ (as a stand-in for the point $\\mathcal{O}$ at infinity), and the function should return the result in the same format.\n"
            ]
        },
        {
            "cell_type": "code",
            "execution_count": null,
            "metadata": {
                "mainSource": true
            },
            "outputs": [],
            "source": [
                "# Run this cell every time you change your source code.\n",
                "import importlib, ecAddSoln\nimportlib.reload(ecAddSoln)\nfrom ecAddSoln import ecAdd"
            ]
        },
        {
            "cell_type": "code",
            "execution_count": null,
            "metadata": {},
            "outputs": [],
            "source": [
                "# Sample test case (5-bit prime modulus; secant line)\n# Expected: (5, 16)\n# Time limit: 1s (not enforced by this notebook)\necAdd((4, 21),(26, 19),15,27,29)"
            ]
        },
        {
            "cell_type": "code",
            "execution_count": null,
            "metadata": {},
            "outputs": [],
            "source": [
                "# Sample test case (5-bit prime modulus; tangent line)\n# Expected: (23, 2)\n# Time limit: 1s (not enforced by this notebook)\necAdd((11, 30),(11, 30),4,21,31)"
            ]
        },
        {
            "cell_type": "code",
            "execution_count": null,
            "metadata": {},
            "outputs": [],
            "source": [
                "# Sample test case (32-bit prime modulus; O plus O)\n# Expected: 0\n# Time limit: 1s (not enforced by this notebook)\necAdd(0,0,1897042781,1388163919,2529220667)"
            ]
        },
        {
            "cell_type": "code",
            "execution_count": null,
            "metadata": {},
            "outputs": [],
            "source": [
                "# Sample test case (32-bit prime modulus; P plus O)\n# Expected: (524155184, 1596099238)\n# Time limit: 1s (not enforced by this notebook)\necAdd((524155184, 1596099238),0,1966712016,292658260,2476223329)"
            ]
        },
        {
            "cell_type": "code",
            "execution_count": null,
            "metadata": {},
            "outputs": [],
            "source": [
                "# Sample test case (32-bit prime modulus; 0 plus P)\n# Expected: (974219041, 1345454820)\n# Time limit: 1s (not enforced by this notebook)\necAdd(0,(974219041, 1345454820),2382765194,982435975,2999452549)"
            ]
        },
        {
            "cell_type": "code",
            "execution_count": null,
            "metadata": {},
            "outputs": [],
            "source": [
                "# Sample test case (32-bit prime modulus; vertical secant line)\n# Expected: 0\n# Time limit: 1s (not enforced by this notebook)\necAdd((2333303298, 2829345365),(2333303298, 416909232),21788004,1527231478,3246254597)"
            ]
        },
        {
            "cell_type": "code",
            "execution_count": null,
            "metadata": {},
            "outputs": [],
            "source": [
                "# Sample test case (32-bit prime modulus; vertical tangent line)\n# Expected: 0\n# Time limit: 1s (not enforced by this notebook)\necAdd((3049078054, 0),(3049078054, 0),1126555365,2737935498,3086199881)"
            ]
        },
        {
            "cell_type": "code",
            "execution_count": null,
            "metadata": {},
            "outputs": [],
            "source": [
                "# Sample test case (32-bit prime modulus; tangent line)\n# Expected: (2808785690, 533280200)\n# Time limit: 1s (not enforced by this notebook)\necAdd((1957103661, 1816129263),(1957103661, 1816129263),1098412609,2123152421,3395479979)"
            ]
        },
        {
            "cell_type": "code",
            "execution_count": null,
            "metadata": {},
            "outputs": [],
            "source": [
                "# Sample test case (32-bit prime modulus; secant line)\n# Expected: (425094995, 780910393)\n# Time limit: 1s (not enforced by this notebook)\necAdd((448299943, 2102189588),(1397752146, 2218850165),1938472370,251164045,2712660781)"
            ]
        }
    ],
    "metadata": {
        "kernelspec": {
            "display_name": "Python 3",
            "language": "python",
            "name": "python3"
        },
        "language_info": {
            "codemirror_mode": {
                "name": "ipython",
                "version": 3
            },
            "file_extension": ".py",
            "mimetype": "text/x-python",
            "name": "python",
            "nbconvert_exporter": "python",
            "pygments_lexer": "ipython3",
            "version": "3.7.1"
        }
    },
    "nbformat": 4,
    "nbformat_minor": 2
}
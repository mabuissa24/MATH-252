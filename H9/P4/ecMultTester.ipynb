{
    "cells": [
        {
            "cell_type": "markdown",
            "metadata": {},
            "source": [
                "Write a function $\\texttt{ecMult(n,P,A,B,p)}$ that computes an integer multiple $n \\cdot P$ of a point $P$ on an elliptic curve $Y^2 \\equiv X^3 + A X + B \\pmod{p}$. Points will be formatted $(x,y)$, with $0 \\leq x,y < p$, while the point at infinity should be denoted simply as $0$\n"
            ]
        },
        {
            "cell_type": "code",
            "execution_count": null,
            "metadata": {
                "mainSource": true
            },
            "outputs": [],
            "source": [
                "# Run this cell every time you change your source code.\n",
                "import importlib, ecMultSoln\nimportlib.reload(ecMultSoln)\nfrom ecMultSoln import ecMult"
            ]
        },
        {
            "cell_type": "code",
            "execution_count": null,
            "metadata": {},
            "outputs": [],
            "source": [
                "# Sample test case (4-bit modulus)\n# Expected: (0, 8)\n# Time limit: 1s (not enforced by this notebook)\necMult(7,(0, 5),7,12,13)"
            ]
        },
        {
            "cell_type": "code",
            "execution_count": null,
            "metadata": {},
            "outputs": [],
            "source": [
                "# Sample test case (64-bit modulus)\n# Expected: (12759430319363092786, 803774938576190289)\n# Time limit: 1s (not enforced by this notebook)\necMult(8047589620005923936,(4297526872213605913, 4419661898306486976),6769479232518810790,12758838330961928686,17019504244839748279)"
            ]
        },
        {
            "cell_type": "code",
            "execution_count": null,
            "metadata": {},
            "outputs": [],
            "source": [
                "# Sample test case (5-bit modulus)\n# Expected: 0\n# Time limit: 1s (not enforced by this notebook)\necMult(0,(2, 13),2,4,17)"
            ]
        },
        {
            "cell_type": "code",
            "execution_count": null,
            "metadata": {},
            "outputs": [],
            "source": [
                "# Sample test case (5-bit modulus)\n# Expected: 0\n# Time limit: 1s (not enforced by this notebook)\necMult(8,(0, 25),26,16,29)"
            ]
        },
        {
            "cell_type": "code",
            "execution_count": null,
            "metadata": {},
            "outputs": [],
            "source": [
                "# Sample test case (16-bit modulus)\n# Expected: (51674, 9008)\n# Time limit: 1s (not enforced by this notebook)\necMult(59238,(30098, 53206),25273,34491,58153)"
            ]
        },
        {
            "cell_type": "code",
            "execution_count": null,
            "metadata": {},
            "outputs": [],
            "source": [
                "# Sample test case (64-bit modulus)\n# Expected: (13744576389446995533, 8713767026666143740)\n# Time limit: 1s (not enforced by this notebook)\necMult(9668710614673218952,(5510720254742439893, 6576665640390421175),16570263188189913526,16488692511132208413,16967927074872114437)"
            ]
        }
    ],
    "metadata": {
        "kernelspec": {
            "display_name": "Python 3",
            "language": "python",
            "name": "python3"
        },
        "language_info": {
            "codemirror_mode": {
                "name": "ipython",
                "version": 3
            },
            "file_extension": ".py",
            "mimetype": "text/x-python",
            "name": "python",
            "nbconvert_exporter": "python",
            "pygments_lexer": "ipython3",
            "version": "3.7.1"
        }
    },
    "nbformat": 4,
    "nbformat_minor": 2
}
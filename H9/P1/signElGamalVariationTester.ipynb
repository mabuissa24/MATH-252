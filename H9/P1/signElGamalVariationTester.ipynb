{
    "cells": [
        {
            "cell_type": "markdown",
            "metadata": {},
            "source": [
                "Suppose that Samantha and Victor are using a variant of Elgamal signatures, in which the verification congruence that Victor will use is $s_1^{s_1} \\cdot g^{s_2} \\equiv A^d \\pmod{p}$. Write a function $\\texttt{signElGamalVariation(p,g,a,d)}$, which produces a valid signature in this system, given the public parameters $p,g$, Samantha's secret signing key $a$, and a document $d$.\n"
            ]
        },
        {
            "cell_type": "code",
            "execution_count": null,
            "metadata": {
                "mainSource": true
            },
            "outputs": [],
            "source": [
                "# Run this cell every time you change your source code.\n",
                "import importlib, signElGamalVariationSoln\nimportlib.reload(signElGamalVariationSoln)\nfrom signElGamalVariationSoln import signElGamalVariation"
            ]
        },
        {
            "cell_type": "code",
            "execution_count": null,
            "metadata": {},
            "outputs": [],
            "source": [
                "# Sample test case (5-bit modulus)\n# Expected: (many possible)\n# Time limit: 1s (not enforced by this notebook)\nsignElGamalVariation(23,21,19,21)"
            ]
        },
        {
            "cell_type": "code",
            "execution_count": null,
            "metadata": {},
            "outputs": [],
            "source": [
                "# Sample test case (8-bit modulus)\n# Expected: (many possible)\n# Time limit: 1s (not enforced by this notebook)\nsignElGamalVariation(151,30,103,121)"
            ]
        },
        {
            "cell_type": "code",
            "execution_count": null,
            "metadata": {},
            "outputs": [],
            "source": [
                "# Sample test case (16-bit modulus)\n# Expected: (many possible)\n# Time limit: 1s (not enforced by this notebook)\nsignElGamalVariation(57709,9023,11761,55838)"
            ]
        },
        {
            "cell_type": "code",
            "execution_count": null,
            "metadata": {},
            "outputs": [],
            "source": [
                "# Sample test case (256-bit modulus)\n# Expected: (many possible)\n# Time limit: 1s (not enforced by this notebook)\nsignElGamalVariation(70741881893401091364275962731248425745027406543497486507987679843442682325301,27189860098496556872876841760167697702861786205485340140815040810284009479920,36582248871881455193357754751984458569488331063478552420083521496605371890867,63911966097168918235720495339761148709985521060221915360843476096617375332069)"
            ]
        }
    ],
    "metadata": {
        "kernelspec": {
            "display_name": "Python 3",
            "language": "python",
            "name": "python3"
        },
        "language_info": {
            "codemirror_mode": {
                "name": "ipython",
                "version": 3
            },
            "file_extension": ".py",
            "mimetype": "text/x-python",
            "name": "python",
            "nbconvert_exporter": "python",
            "pygments_lexer": "ipython3",
            "version": "3.7.1"
        }
    },
    "nbformat": 4,
    "nbformat_minor": 2
}
{
    "cells": [
        {
            "cell_type": "markdown",
            "metadata": {},
            "source": [
                "Alice and Bob use ElGamal encryption on a regular basis, using public parameters $p,g$. Alice's public key is $A$. Eve has intercepted two ciphertexts $\\texttt{(c11,c12), (c21,c22)}$ from Bob to Alice, and has determined in some way that that the plaintext of the first transmission is a specific number $\\texttt{m1}$ (e.g. it is a standard greeting).\n",
                "\n",
                "Furthermore, Eve has a hunch that Bob is not generating his ephemeral keys very well. After last week's problem set, he knows better than to use the same ephemeral key twice, but the keys are still related. In particular, if $\\texttt{k1}$ was Bob's ephemeral key for the first transmission, his ephemeral key for the second was computed in this way:\n",
                "$$ \\texttt{k2 = u * k1 + v}$$\n",
                "where $\\texttt{u,v}$ are two integers between $1$ and $100$ that Eve does not know.\n",
                "\n",
                "Write a function $\\texttt{relatedkeys(g,p,A,c11,c12,m1,c21,c22)}$ that Eve could use to determine the second plaintext $\\texttt{m2}$ under these assumptions. The largest test cases will use $256$-bit primes $p$.\n"
            ]
        },
        {
            "cell_type": "code",
            "execution_count": null,
            "metadata": {
                "mainSource": true
            },
            "outputs": [],
            "source": [
                "# Run this cell every time you change your source code.\n",
                "import importlib, relatedKeysSoln\nimportlib.reload(relatedKeysSoln)\nfrom relatedKeysSoln import relatedkeys"
            ]
        },
        {
            "cell_type": "code",
            "execution_count": null,
            "metadata": {},
            "outputs": [],
            "source": [
                "# Sample test case (7-bit prime)\n# Expected: 86\n# Time limit: 1s (not enforced by this notebook)\nrelatedkeys(3,127,34,109,11,62,41,80)"
            ]
        },
        {
            "cell_type": "code",
            "execution_count": null,
            "metadata": {},
            "outputs": [],
            "source": [
                "# Sample test case (12-bit prime)\n# Expected: 750\n# Time limit: 1s (not enforced by this notebook)\nrelatedkeys(7,3541,2713,889,2821,1401,2695,394)"
            ]
        },
        {
            "cell_type": "code",
            "execution_count": null,
            "metadata": {},
            "outputs": [],
            "source": [
                "# Sample test case (16-bit prime)\n# Expected: 25558\n# Time limit: 1s (not enforced by this notebook)\nrelatedkeys(3,49279,9238,38314,12099,28601,39393,47051)"
            ]
        },
        {
            "cell_type": "code",
            "execution_count": null,
            "metadata": {},
            "outputs": [],
            "source": [
                "# Sample test case (20-bit prime)\n# Expected: 303665\n# Time limit: 1s (not enforced by this notebook)\nrelatedkeys(7,538249,263235,125169,16747,488580,94195,527067)"
            ]
        },
        {
            "cell_type": "code",
            "execution_count": null,
            "metadata": {},
            "outputs": [],
            "source": [
                "# Sample test case (32-bit prime)\n# Expected: 1181344068\n# Time limit: 1s (not enforced by this notebook)\nrelatedkeys(2,2391174077,1223091961,1869732797,2275276532,1984459524,541943192,1109440006)"
            ]
        },
        {
            "cell_type": "code",
            "execution_count": null,
            "metadata": {},
            "outputs": [],
            "source": [
                "# Sample test case (64-bit prime)\n# Expected: 5928920415199057082\n# Time limit: 1s (not enforced by this notebook)\nrelatedkeys(2,13231993593526478909,10155502347445744202,7636848354106088147,13191353533656980288,6134001108655584433,425407653675131144,8236502191637413037)"
            ]
        },
        {
            "cell_type": "code",
            "execution_count": null,
            "metadata": {},
            "outputs": [],
            "source": [
                "# Sample test case (256-bit prime)\n# Expected: 4987801362963149149115381303264296754592955696989037684600758697702127635131\n# Time limit: 1s (not enforced by this notebook)\nrelatedkeys(7,83556577409963116144238402000143248851240395790869560958149495476153273685959,68509899232286712070696844442736071338145138841817557237929764113938938938443,41032123961328238761154176688713503361561780356197656150423092003104153797130,41854424608701442538623598185523954644671391761906086040001107572405415268266,26475777942196936625809843610875760603834245511785953032846838363561173047575,35335086214731574420569494299189199219870831584839872086601311789410343935926,6380501489903637455378798677777469157210985696880211069433563935458734961009)"
            ]
        }
    ],
    "metadata": {
        "kernelspec": {
            "display_name": "Python 3",
            "language": "python",
            "name": "python3"
        },
        "language_info": {
            "codemirror_mode": {
                "name": "ipython",
                "version": 3
            },
            "file_extension": ".py",
            "mimetype": "text/x-python",
            "name": "python",
            "nbconvert_exporter": "python",
            "pygments_lexer": "ipython3",
            "version": "3.7.1"
        }
    },
    "nbformat": 4,
    "nbformat_minor": 2
}
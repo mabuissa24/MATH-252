{
    "cells": [
        {
            "cell_type": "markdown",
            "metadata": {},
            "source": [
                "In the ElGamal cryptosystem (to be discussed in class on Friday 2/15), it is crucial that Bob generates a new random element (ephemeral key) $k$ for every transmission, for reasons we discuss in class. In this problem, you will implement some code that Eve might use to break Bob's encryption if he is not careful. Specifically, suppose that Bob sends two messages using the same value of $k$, and that Eve somehow learns the contents of the first message (we discuss in class some reasons why this is not implausible).\n",
                "\n",
                "Specifically, suppose that all parties know the paramters $g$ and $p$ and Alice's public key $A$, and Eve intercepts two transmissions from Bob to Alice. The first is a ciphertext $\\texttt{(c11, c12)}$, which Eve determines corresponds to a plaintext $\\texttt{m1}$ (perhaps a standard greeting, or a weather report). The second is a ciphertext $\\texttt{c21,c22}$ corresponding to a plantext $\\texttt{m2}$ that Eve hopes to extract. Write a function $\\texttt{analyzeElgamal(g,p,A,c11,c12,m1,c21,c22)}$ that returns $\\texttt{m2}$, assuming that Bob has foolishly used the same value of $k$ for both transmissions.\n",
                "\n",
                "The largest test cases will use $256$-bit primes $p$, but a naive appraoche will earn partial credit.\n"
            ]
        },
        {
            "cell_type": "code",
            "execution_count": null,
            "metadata": {
                "mainSource": true
            },
            "outputs": [],
            "source": [
                "# Run this cell every time you change your source code.\n",
                "import importlib, analyzeElgamalSoln\nimportlib.reload(analyzeElgamalSoln)\nfrom analyzeElgamalSoln import analyzeElgamal"
            ]
        },
        {
            "cell_type": "code",
            "execution_count": null,
            "metadata": {},
            "outputs": [],
            "source": [
                "# Sample test case (7-bit prime)\n# Expected: 34\n# Time limit: 1s (not enforced by this notebook)\nanalyzeElgamal(2,101,59,89,67,24,89,36)"
            ]
        },
        {
            "cell_type": "code",
            "execution_count": null,
            "metadata": {},
            "outputs": [],
            "source": [
                "# Sample test case (12-bit prime)\n# Expected: 1679\n# Time limit: 1s (not enforced by this notebook)\nanalyzeElgamal(3,2753,1321,42,339,2446,42,621)"
            ]
        },
        {
            "cell_type": "code",
            "execution_count": null,
            "metadata": {},
            "outputs": [],
            "source": [
                "# Sample test case (16-bit prime)\n# Expected: 10387\n# Time limit: 1s (not enforced by this notebook)\nanalyzeElgamal(5,38803,15862,7712,226,21841,7712,22189)"
            ]
        },
        {
            "cell_type": "code",
            "execution_count": null,
            "metadata": {},
            "outputs": [],
            "source": [
                "# Sample test case (20-bit prime)\n# Expected: 97034\n# Time limit: 1s (not enforced by this notebook)\nanalyzeElgamal(2,921523,732760,163540,727323,427577,163540,471828)"
            ]
        },
        {
            "cell_type": "code",
            "execution_count": null,
            "metadata": {},
            "outputs": [],
            "source": [
                "# Sample test case (32-bit prime)\n# Expected: 105681699\n# Time limit: 1s (not enforced by this notebook)\nanalyzeElgamal(3,3436083017,2207164684,687505053,1556543986,1152021956,687505053,355203221)"
            ]
        },
        {
            "cell_type": "code",
            "execution_count": null,
            "metadata": {},
            "outputs": [],
            "source": [
                "# Sample test case (64-bit prime)\n# Expected: 7929227200726706700\n# Time limit: 1s (not enforced by this notebook)\nanalyzeElgamal(2,9863556633084965123,1355948912402180089,6240292149553424522,2050745063694869893,9366414703912151052,6240292149553424522,1339440636321487499)"
            ]
        },
        {
            "cell_type": "code",
            "execution_count": null,
            "metadata": {},
            "outputs": [],
            "source": [
                "# Sample test case (256-bit prime)\n# Expected: 1994459595716858496024781809256473117308697923440263350393163084817732501081\n# Time limit: 1s (not enforced by this notebook)\nanalyzeElgamal(2,112930193266822758549108806292935300429989471038912454381371963869938457471693,5001924887970449060490481599194733615654814966748947832245250162964274303546,110410960611425382301729588393577412095138831418955568310761397643317761654194,47520084273024340601376675296155838651554326739472078067019051812881500638671,20696058419716968312482829706765741523069463902974800015573785437921009452225,110410960611425382301729588393577412095138831418955568310761397643317761654194,31069589981457575166957137082908662423113405959712484150027779918721239258867)"
            ]
        }
    ],
    "metadata": {
        "kernelspec": {
            "display_name": "Python 3",
            "language": "python",
            "name": "python3"
        },
        "language_info": {
            "codemirror_mode": {
                "name": "ipython",
                "version": 3
            },
            "file_extension": ".py",
            "mimetype": "text/x-python",
            "name": "python",
            "nbconvert_exporter": "python",
            "pygments_lexer": "ipython3",
            "version": "3.7.1"
        }
    },
    "nbformat": 4,
    "nbformat_minor": 2
}
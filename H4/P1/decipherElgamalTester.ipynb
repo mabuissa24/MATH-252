{
    "cells": [
        {
            "cell_type": "markdown",
            "metadata": {},
            "source": [
                "Write a program which deciphers a message sent to you with Elgamal encryption, given the public parameters $p,g$, your private key $a$, and the ciphertext $(c_1, c_2)$. More specifically, write a function $\\texttt{decipherElgamal(p,g,a,c1,c2)}$ that returns the plaintext $\\texttt{m}$ (notation as in the table on p. 72). The length of the prime will vary, up to as large as $256$ bits.\n"
            ]
        },
        {
            "cell_type": "code",
            "execution_count": null,
            "metadata": {
                "mainSource": true
            },
            "outputs": [],
            "source": [
                "# Run this cell every time you change your source code.\n",
                "import importlib, decipherElgamalSoln\nimportlib.reload(decipherElgamalSoln)\nfrom decipherElgamalSoln import decipherElgamal"
            ]
        },
        {
            "cell_type": "code",
            "execution_count": null,
            "metadata": {},
            "outputs": [],
            "source": [
                "# Sample test case (7-bit prime)\n# Expected: 60\n# Time limit: 1s (not enforced by this notebook)\ndecipherElgamal(71,7,32,40,29)"
            ]
        },
        {
            "cell_type": "code",
            "execution_count": null,
            "metadata": {},
            "outputs": [],
            "source": [
                "# Sample test case (12-bit prime)\n# Expected: 2904\n# Time limit: 1s (not enforced by this notebook)\ndecipherElgamal(2953,13,2196,680,792)"
            ]
        },
        {
            "cell_type": "code",
            "execution_count": null,
            "metadata": {},
            "outputs": [],
            "source": [
                "# Sample test case (16-bit prime)\n# Expected: 28303\n# Time limit: 1s (not enforced by this notebook)\ndecipherElgamal(40531,2,19921,30426,39311)"
            ]
        },
        {
            "cell_type": "code",
            "execution_count": null,
            "metadata": {},
            "outputs": [],
            "source": [
                "# Sample test case (20-bit prime)\n# Expected: 388744\n# Time limit: 1s (not enforced by this notebook)\ndecipherElgamal(673349,2,103743,163191,513110)"
            ]
        },
        {
            "cell_type": "code",
            "execution_count": null,
            "metadata": {},
            "outputs": [],
            "source": [
                "# Sample test case (32-bit prime)\n# Expected: 2728006303\n# Time limit: 1s (not enforced by this notebook)\ndecipherElgamal(3523079381,2,1944494196,2122898709,2724245553)"
            ]
        },
        {
            "cell_type": "code",
            "execution_count": null,
            "metadata": {},
            "outputs": [],
            "source": [
                "# Sample test case (64-bit prime)\n# Expected: 1488978917220191784\n# Time limit: 1s (not enforced by this notebook)\ndecipherElgamal(16701334772971581431,19,4308872055883788319,6040312196729592349,16692077075907212841)"
            ]
        },
        {
            "cell_type": "code",
            "execution_count": null,
            "metadata": {},
            "outputs": [],
            "source": [
                "# Sample test case (256-bit prime)\n# Expected: 81324551394199390716450047905947570316489161894833498968474142720765952140971\n# Time limit: 1s (not enforced by this notebook)\ndecipherElgamal(95191702150458863610174965478556066328252612308031633240130353987724607962317,2,6306890500483905962822843267478922331718311979513014074890375198183392026316,62832749903205638576439360120789378310499747278215732123260084691901457701899,84339134753452547975884362422256110426814483799134584056552501483365246258492)"
            ]
        }
    ],
    "metadata": {
        "kernelspec": {
            "display_name": "Python 3",
            "language": "python",
            "name": "python3"
        },
        "language_info": {
            "codemirror_mode": {
                "name": "ipython",
                "version": 3
            },
            "file_extension": ".py",
            "mimetype": "text/x-python",
            "name": "python",
            "nbconvert_exporter": "python",
            "pygments_lexer": "ipython3",
            "version": "3.7.1"
        }
    },
    "nbformat": 4,
    "nbformat_minor": 2
}